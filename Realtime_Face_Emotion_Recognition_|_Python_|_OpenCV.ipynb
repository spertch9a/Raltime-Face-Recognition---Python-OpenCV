{
  "nbformat": 4,
  "nbformat_minor": 0,
  "metadata": {
    "colab": {
      "name": "Realtime Face Emotion Recognition | Python | OpenCV",
      "provenance": [],
      "mount_file_id": "13nSCwyOs2_Dm8X_LIxlRSzAwyUwHt1Bq",
      "authorship_tag": "ABX9TyNphoHUaOIlkbRvL+JSsLAq",
      "include_colab_link": true
    },
    "kernelspec": {
      "name": "python3",
      "display_name": "Python 3"
    }
  },
  "cells": [
    {
      "cell_type": "markdown",
      "metadata": {
        "id": "view-in-github",
        "colab_type": "text"
      },
      "source": [
        "<a href=\"https://colab.research.google.com/github/spertch9a/Raltime-Face-Recognition---Python-OpenCV/blob/main/Realtime_Face_Emotion_Recognition_%7C_Python_%7C_OpenCV.ipynb\" target=\"_parent\"><img src=\"https://colab.research.google.com/assets/colab-badge.svg\" alt=\"Open In Colab\"/></a>"
      ]
    },
    {
      "cell_type": "code",
      "metadata": {
        "id": "SmxEpZJx9hYO"
      },
      "source": [
        "import cv2 "
      ],
      "execution_count": 2,
      "outputs": []
    }
  ]
}